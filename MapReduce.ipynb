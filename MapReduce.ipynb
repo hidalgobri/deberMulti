{
 "cells": [
  {
   "cell_type": "markdown",
   "metadata": {
    "collapsed": false
   },
   "source": [
    "- ¿Qué es Map-Reduce?\n",
    "- ¿Por qué se requiere multiprocesamiento en Map-Reduce?\n",
    "- ¿Qué hace el siguiente código?\n",
    "- Pruebe en procesar archivos de texto (puede buscar datasets en kaggle) contabilizando la frecuencia de aparición de las palabras para todos los archivos."
   ]
  },
  {
   "cell_type": "code",
   "execution_count": 9,
   "metadata": {
    "collapsed": false
   },
   "outputs": [
    {
     "name": "stdout",
     "output_type": "stream",
     "text": [
      "ForkPoolWorker-30 reading tweets_corpus2.txt\n",
      "ForkPoolWorker-29 reading tweets_corpus1.txt\n",
      "\n",
      "TOP 20 WORDS BY FREQUENCY\n",
      "\n",
      "20\n",
      "t         : 372937\n",
      "co        : 371772\n",
      "https     : 358583\n",
      "ecuador   : 27873\n",
      "ahora     : 22727\n",
      "video     : 20733\n",
      "youtube   : 18320\n",
      "hoy       : 18208\n",
      "ser       : 15157\n",
      "dia       : 14569\n",
      "gracias   : 14545\n",
      "via       : 14229\n",
      "emitiendo : 14014\n",
      "asi       : 13443\n",
      "http      : 13047\n",
      "vida      : 12938\n",
      "solo      : 12849\n",
      "mejor     : 11817\n",
      "siempre   : 10953\n",
      "pais      :  9196\n"
     ]
    }
   ],
   "source": [
    "import multiprocessing\n",
    "import string\n",
    "\n",
    "from multiprocessing_mapreduce import SimpleMapReduce\n",
    "\n",
    "def file_to_words(filename):\n",
    "    \"\"\"Read a file and return a sequence of (word, occurances) values.\n",
    "    \"\"\"\n",
    "    STOP_WORDS = set([\n",
    "            'a', 'an', 'and', 'are', 'as', 'be', 'by', 'for', 'if', 'in', \n",
    "            'is', 'it', 'of', 'or', 'py', 'rst', 'that', 'the', 'to', 'with',\n",
    "            ])\n",
    "    TR = str.maketrans(string.punctuation, ' ' * len(string.punctuation))\n",
    "\n",
    "    print (multiprocessing.current_process().name, 'reading', filename)\n",
    "    output = []\n",
    "\n",
    "    with open(filename, 'rt') as f:\n",
    "        for line in f:\n",
    "            if line.lstrip().startswith('..'): # Skip rst comment lines\n",
    "                continue\n",
    "            line = line.translate(TR) # Strip punctuation\n",
    "            for word in line.split():\n",
    "                word = word.lower()\n",
    "                if word.isalpha() and word not in STOP_WORDS:\n",
    "                    output.append( (word, 1) )\n",
    "    return output\n",
    "\n",
    "\n",
    "def count_words(item):\n",
    "    \"\"\"Convert the partitioned data for a word to a\n",
    "    tuple containing the word and the number of occurances.\n",
    "    \"\"\"\n",
    "    word, occurances = item\n",
    "    return (word, sum(occurances))\n",
    "\n",
    "\n",
    "if __name__ == '__main__':\n",
    "    import operator\n",
    "    import glob\n",
    "\n",
    "    input_files = glob.glob('*.txt')\n",
    "    #input_files = ['tweets_corpus1.txt', 'tweets_corpus2.txt']\n",
    "    #input_file = open(\"tweets_corpus.txt\", \"r\")\n",
    "    #print(input_file.read(40))\n",
    "    \n",
    "    mapper = SimpleMapReduce(file_to_words, count_words)\n",
    "    word_counts = mapper(input_files)\n",
    "    word_counts.sort(key=operator.itemgetter(1))\n",
    "    word_counts.reverse()\n",
    "    \n",
    "    print ('\\nTOP 20 WORDS BY FREQUENCY\\n')\n",
    "    top20 = word_counts[:20]\n",
    "    print(len(top20))\n",
    "    longest = max(len(word) for word, count in top20)\n",
    "    for word, count in top20:\n",
    "        print ('%-*s: %5s' % (longest+1, word, count))"
   ]
  },
  {
   "cell_type": "code",
   "execution_count": null,
   "metadata": {
    "collapsed": true
   },
   "outputs": [],
   "source": []
  }
 ],
 "metadata": {
  "kernelspec": {
   "display_name": "Python 3",
   "language": "python",
   "name": "python3"
  },
  "language_info": {
   "codemirror_mode": {
    "name": "ipython",
    "version": 3
   },
   "file_extension": ".py",
   "mimetype": "text/x-python",
   "name": "python",
   "nbconvert_exporter": "python",
   "pygments_lexer": "ipython3",
   "version": "3.6.5"
  }
 },
 "nbformat": 4,
 "nbformat_minor": 0
}
